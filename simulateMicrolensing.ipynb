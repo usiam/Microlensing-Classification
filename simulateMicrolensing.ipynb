{
 "cells": [
  {
   "cell_type": "markdown",
   "metadata": {},
   "source": [
    "# Import modules"
   ]
  },
  {
   "cell_type": "code",
   "execution_count": 2,
   "metadata": {},
   "outputs": [],
   "source": [
    "import numpy as np\n",
    "import matplotlib.pyplot as plt"
   ]
  },
  {
   "cell_type": "markdown",
   "metadata": {},
   "source": [
    "# Microlensing Injection"
   ]
  },
  {
   "cell_type": "code",
   "execution_count": 3,
   "metadata": {},
   "outputs": [],
   "source": [
    "def flux_pspl(u0, t, t0, tE, F_S, F_B):\n",
    "    \"\"\"\n",
    "    Magnification factor for flux of point source due to a point lens (PSPL model).\n",
    "    The true flux from the point source is magnified by the point lens by the mean_function and\n",
    "    as a result can be used to detect faint (or MACHO) objects in the universe\n",
    "\n",
    "    Source: https://www.microlensing-source.org/concept/point-lenses/\n",
    "            https://www.microlensing-source.org/glossary/\n",
    "\n",
    "    Args:\n",
    "        u0 (_type_): the impact parameter between the source and the lens \n",
    "        (i.e. minimum separation)\n",
    "        t (_type_): time\n",
    "        t0 (_type_): the time of closest approach between the source and lens\n",
    "        (i.e. at t = t0, u = u0)\n",
    "        tE (_type_): the Einstein crossing time = the time for the source to travel 1 Einstein radius\n",
    "        F_S (_type_): Flux received from the source (as opposed to F_B)\n",
    "        F_B (_type_): Flux from background sources blended with the source.\n",
    "    # rename?\n",
    "    Returns:\n",
    "        _type_: Magnification factor of the brigtness from point source due to the point lens\n",
    "    \"\"\"\n",
    "    tau = (t-t0)/tE # represents the fraction of event time that has already passed\n",
    "    u = np.sqrt(np.square(u0) + (np.square(tau))) \n",
    "    return F_S * (np.square(u) + 2)/(u * np.sqrt(np.square(u) + 4)) + F_B\n",
    "\n",
    "# Maybe change to interms of tau"
   ]
  },
  {
   "cell_type": "code",
   "execution_count": 4,
   "metadata": {},
   "outputs": [],
   "source": [
    "t = np.linspace(-10, 10, 10000)\n",
    "lc = np.ones_like(t)\n",
    "F_S = np.median(lc)\n",
    "F_B = 0\n",
    "t0 = 0  # np.random.normal(loc=np.mean(lc), scale=100) # in days\n",
    "tE = 1  # t_E = np.random.uniform(low = 0, high = 0)\n",
    "u0 = np.random.uniform(low=0, high=2)"
   ]
  },
  {
   "cell_type": "code",
   "execution_count": 5,
   "metadata": {},
   "outputs": [
    {
     "data": {
      "image/png": "[encoded data removed]",
      "text/plain": [
       "<Figure size 432x288 with 1 Axes>"
      ]
     },
     "metadata": {
      "needs_background": "light"
     },
     "output_type": "display_data"
    }
   ],
   "source": [
    "flux = flux_pspl(u0, t, t0, tE, F_S, F_B)\n",
    "plt.plot(t, flux)\n",
    "plt.xlabel(\"Time\")\n",
    "plt.ylabel(\"Flux\")\n",
    "plt.savefig(\"plots/simMicroLensEvent.jpg\")"
   ]
  },
  {
   "cell_type": "markdown",
   "metadata": {},
   "source": [
    "# Simulation assumptions"
   ]
  },
  {
   "cell_type": "markdown",
   "metadata": {},
   "source": [
    "$F_S$ = median flux in the light curve\n",
    "\n",
    "$F_B$ = 0 initially \n",
    "\n",
    "> `Nate's code: lines 320 - 323`\n",
    "\n",
    ">  `Fbase = pm.Normal('Fbase',mu=F_base_mu,sd=F_base_sigma,testval=F_base_mu)`\n",
    "\n",
    ">    `b_sff = pm.Uniform('b_sff',lower=0,upper=1+10/np.min(F),testval=0.5)`\n",
    "\n",
    ">    `F_S = pm.Deterministic('F_S',Fbase*b_sff)`\n",
    "\n",
    ">  `F_B = pm.Deterministic('F_B',Fbase-F_S)`\n",
    "\n",
    "$t-t_0$ = uniformly distributed over 0-100 days OR\n",
    "\n",
    "> `Nate's code - line 325:`\n",
    "\n",
    "> `t0 = pm.Normal('t0',mu=OGLE_t0,sd=100.,testval=OGLE_t0)`\n",
    "\n",
    "$t_E$ = Nate's priors \n",
    "\n",
    "*Alternative could also build $t_E$ into $t-t_0$ so we can uniformly distribute $\\tau = \\frac{t-t_0}{t_E}$ i.e. uniform distribution of \n",
    "    $\\tau \\in (-5, 0)$*\n",
    "\n",
    "u0 = Uniform Prior\n",
    "> `Nate's code line 327:` \n",
    "\n",
    "> `u0 = pm.Uniform('u0', lower=0,upper=2,testval=OGLE_u0+0.001)`\n"
   ]
  },
  {
   "cell_type": "markdown",
   "metadata": {},
   "source": [
    "m2 - m1 = -2.5 log(f1/f2)\n",
    "\n",
    "flux_injected / flux_observed = magnification\n",
    "\n",
    "m_injected - m_observed = -2.5log(flux_injected/flux_observed)\n",
    "\n",
    "A.  flux_injected = flux_observed * A\n",
    "\n",
    "mag_injected = mag_observed + -2.5*np.log10(A)\n",
    "\n",
    "flux_injected = flux_observed + (A-1)*np.median(flux_observed)  # little better; doesn't magnify the noise?"
   ]
  },
  {
   "cell_type": "markdown",
   "metadata": {},
   "source": [
    "# Exercise:"
   ]
  },
  {
   "cell_type": "markdown",
   "metadata": {},
   "source": [
    "### Lightcurve of a Point-Source, Point-Lens Event\n",
    "\n",
    "Let's look again at our example microlensing event, where ML = 0.4M☉, DL=4kpc and DS=8kpc, and let's say that the relative angular motion between the two is 0.1 milli-arcsec / day. Using our usual lens-centered geometry, we take the lens to be stationary and the source to be moving along a trajectory behind it. Consider 4 trajectories, which pass the lens at progressively smaller closest-approach separations.\n",
    "\n",
    "Over a 30d period, calculate the angular separations of lens-source for each day on each trajectory. Plot the lightcurve of the source for each trajectory in terms of the magnification."
   ]
  },
  {
   "cell_type": "code",
   "execution_count": 6,
   "metadata": {},
   "outputs": [],
   "source": [
    "# First we need to calculate u over the 30d\n",
    "import astropy.constants as const\n",
    "M_L = 0.4 * const.M_sun\n",
    "D_L = 4 * const.kpc\n",
    "D_S = 8 * const.kpc\n",
    "alpha_dot = 0.1 * 1e-3 * 4.84814e-6 / 86400  # milli-arcsec/day to radians/sec\n",
    "t = np.arange(-31, 31, 0.01, dtype=float) * 86400\n",
    "alpha_0 = 0.1 * 4.84814e-9 * 6\n",
    "alpha = np.hypot(alpha_0, alpha_dot * t)\n",
    "\n",
    "D_LS = D_S - D_L\n",
    "mu = 1 + (D_L/D_LS)\n",
    "theta0 = np.sqrt((4 * const.G * M_L) / (mu * D_L * const.c**2) )\n",
    "u = abs(alpha/theta0)\n",
    "\n",
    "\n",
    "# once we have calculated u, we can calculate A\n",
    "A = (np.square(u) + 2)/(u * np.sqrt(np.square(u) + 4))\n"
   ]
  },
  {
   "cell_type": "code",
   "execution_count": 7,
   "metadata": {},
   "outputs": [
    {
     "data": {
      "text/plain": [
       "Text(0.5, 0, 'Time')"
      ]
     },
     "execution_count": 7,
     "metadata": {},
     "output_type": "execute_result"
    },
    {
     "data": {
      "image/png": "[encoded data removed]",
      "text/plain": [
       "<Figure size 432x288 with 1 Axes>"
      ]
     },
     "metadata": {
      "needs_background": "light"
     },
     "output_type": "display_data"
    }
   ],
   "source": [
    "plt.plot(t/86400, A)\n",
    "plt.xlabel('Time')"
   ]
  }
 ],
 "metadata": {
  "interpreter": {
   "hash": "1d9d410732751102db5fa9aa00b51dcf0d802da2b5c6a58fcbaf31af5623cefa"
  },
  "kernelspec": {
   "display_name": "Python 3.10.4 64-bit ('data_science': conda)",
   "language": "python",
   "name": "python3"
  },
  "language_info": {
   "codemirror_mode": {
    "name": "ipython",
    "version": 3
   },
   "file_extension": ".py",
   "mimetype": "text/x-python",
   "name": "python",
   "nbconvert_exporter": "python",
   "pygments_lexer": "ipython3",
   "version": "3.10.4"
  },
  "orig_nbformat": 4
 },
 "nbformat": 4,
 "nbformat_minor": 2
}
